{
 "cells": [
  {
   "cell_type": "markdown",
   "id": "0c8b35f6-21b5-4a53-a2c3-e717d601ff81",
   "metadata": {},
   "source": [
    "#### Problem Statement  \n",
    "Implementation of Naive Bayes using a simple and small dataset based on Tennis Game."
   ]
  },
  {
   "cell_type": "code",
   "execution_count": 38,
   "id": "b9919e66-168d-469d-ab3c-f02b515bc9d6",
   "metadata": {},
   "outputs": [],
   "source": [
    "#Importing the required modules\n",
    "import numpy as np\n",
    "import pandas as pd"
   ]
  },
  {
   "cell_type": "code",
   "execution_count": 39,
   "id": "a9e49c4f-908b-4251-964c-0d80f4de4338",
   "metadata": {},
   "outputs": [
    {
     "data": {
      "text/html": [
       "<div>\n",
       "<style scoped>\n",
       "    .dataframe tbody tr th:only-of-type {\n",
       "        vertical-align: middle;\n",
       "    }\n",
       "\n",
       "    .dataframe tbody tr th {\n",
       "        vertical-align: top;\n",
       "    }\n",
       "\n",
       "    .dataframe thead th {\n",
       "        text-align: right;\n",
       "    }\n",
       "</style>\n",
       "<table border=\"1\" class=\"dataframe\">\n",
       "  <thead>\n",
       "    <tr style=\"text-align: right;\">\n",
       "      <th></th>\n",
       "      <th>day</th>\n",
       "      <th>outlook</th>\n",
       "      <th>temp</th>\n",
       "      <th>humidity</th>\n",
       "      <th>wind</th>\n",
       "      <th>play</th>\n",
       "    </tr>\n",
       "  </thead>\n",
       "  <tbody>\n",
       "    <tr>\n",
       "      <th>0</th>\n",
       "      <td>D1</td>\n",
       "      <td>Sunny</td>\n",
       "      <td>Hot</td>\n",
       "      <td>High</td>\n",
       "      <td>Weak</td>\n",
       "      <td>No</td>\n",
       "    </tr>\n",
       "    <tr>\n",
       "      <th>1</th>\n",
       "      <td>D2</td>\n",
       "      <td>Sunny</td>\n",
       "      <td>Hot</td>\n",
       "      <td>High</td>\n",
       "      <td>Strong</td>\n",
       "      <td>No</td>\n",
       "    </tr>\n",
       "    <tr>\n",
       "      <th>2</th>\n",
       "      <td>D3</td>\n",
       "      <td>Overcast</td>\n",
       "      <td>Hot</td>\n",
       "      <td>High</td>\n",
       "      <td>Weak</td>\n",
       "      <td>Yes</td>\n",
       "    </tr>\n",
       "    <tr>\n",
       "      <th>3</th>\n",
       "      <td>D4</td>\n",
       "      <td>Rain</td>\n",
       "      <td>Mild</td>\n",
       "      <td>High</td>\n",
       "      <td>Weak</td>\n",
       "      <td>Yes</td>\n",
       "    </tr>\n",
       "    <tr>\n",
       "      <th>4</th>\n",
       "      <td>D5</td>\n",
       "      <td>Rain</td>\n",
       "      <td>Cool</td>\n",
       "      <td>Normal</td>\n",
       "      <td>Weak</td>\n",
       "      <td>Yes</td>\n",
       "    </tr>\n",
       "  </tbody>\n",
       "</table>\n",
       "</div>"
      ],
      "text/plain": [
       "  day   outlook  temp humidity    wind play\n",
       "0  D1     Sunny   Hot     High    Weak   No\n",
       "1  D2     Sunny   Hot     High  Strong   No\n",
       "2  D3  Overcast   Hot     High    Weak  Yes\n",
       "3  D4      Rain  Mild     High    Weak  Yes\n",
       "4  D5      Rain  Cool   Normal    Weak  Yes"
      ]
     },
     "execution_count": 39,
     "metadata": {},
     "output_type": "execute_result"
    }
   ],
   "source": [
    "#Reading data from csv to a dataframe\n",
    "data = pd.read_csv(\"play_tennis.csv\")\n",
    "data.head(5)"
   ]
  },
  {
   "cell_type": "code",
   "execution_count": 40,
   "id": "3999510b-6452-480a-8c8a-75c9e71aa27d",
   "metadata": {},
   "outputs": [
    {
     "data": {
      "text/plain": [
       "(14, 6)"
      ]
     },
     "execution_count": 40,
     "metadata": {},
     "output_type": "execute_result"
    }
   ],
   "source": [
    "#Checking dataset shape\n",
    "data.shape"
   ]
  },
  {
   "cell_type": "markdown",
   "id": "4f099014-3a20-42d7-a892-683cdb0117c2",
   "metadata": {},
   "source": [
    "There are only 14 rows and 6 columns in the dataset."
   ]
  },
  {
   "cell_type": "code",
   "execution_count": 41,
   "id": "236c2753-a175-4185-a6e2-96fbf3b9841d",
   "metadata": {},
   "outputs": [],
   "source": [
    "#Dropping the day column as it is not of any significance\n",
    "data.drop(columns=\"day\", inplace=True)"
   ]
  },
  {
   "cell_type": "code",
   "execution_count": 42,
   "id": "1cb54248-bb39-4e34-8848-39791cf223e8",
   "metadata": {},
   "outputs": [
    {
     "data": {
      "text/html": [
       "<div>\n",
       "<style scoped>\n",
       "    .dataframe tbody tr th:only-of-type {\n",
       "        vertical-align: middle;\n",
       "    }\n",
       "\n",
       "    .dataframe tbody tr th {\n",
       "        vertical-align: top;\n",
       "    }\n",
       "\n",
       "    .dataframe thead th {\n",
       "        text-align: right;\n",
       "    }\n",
       "</style>\n",
       "<table border=\"1\" class=\"dataframe\">\n",
       "  <thead>\n",
       "    <tr style=\"text-align: right;\">\n",
       "      <th></th>\n",
       "      <th>outlook</th>\n",
       "      <th>temp</th>\n",
       "      <th>humidity</th>\n",
       "      <th>wind</th>\n",
       "      <th>play</th>\n",
       "    </tr>\n",
       "  </thead>\n",
       "  <tbody>\n",
       "    <tr>\n",
       "      <th>0</th>\n",
       "      <td>Sunny</td>\n",
       "      <td>Hot</td>\n",
       "      <td>High</td>\n",
       "      <td>Weak</td>\n",
       "      <td>No</td>\n",
       "    </tr>\n",
       "    <tr>\n",
       "      <th>1</th>\n",
       "      <td>Sunny</td>\n",
       "      <td>Hot</td>\n",
       "      <td>High</td>\n",
       "      <td>Strong</td>\n",
       "      <td>No</td>\n",
       "    </tr>\n",
       "    <tr>\n",
       "      <th>2</th>\n",
       "      <td>Overcast</td>\n",
       "      <td>Hot</td>\n",
       "      <td>High</td>\n",
       "      <td>Weak</td>\n",
       "      <td>Yes</td>\n",
       "    </tr>\n",
       "    <tr>\n",
       "      <th>3</th>\n",
       "      <td>Rain</td>\n",
       "      <td>Mild</td>\n",
       "      <td>High</td>\n",
       "      <td>Weak</td>\n",
       "      <td>Yes</td>\n",
       "    </tr>\n",
       "    <tr>\n",
       "      <th>4</th>\n",
       "      <td>Rain</td>\n",
       "      <td>Cool</td>\n",
       "      <td>Normal</td>\n",
       "      <td>Weak</td>\n",
       "      <td>Yes</td>\n",
       "    </tr>\n",
       "  </tbody>\n",
       "</table>\n",
       "</div>"
      ],
      "text/plain": [
       "    outlook  temp humidity    wind play\n",
       "0     Sunny   Hot     High    Weak   No\n",
       "1     Sunny   Hot     High  Strong   No\n",
       "2  Overcast   Hot     High    Weak  Yes\n",
       "3      Rain  Mild     High    Weak  Yes\n",
       "4      Rain  Cool   Normal    Weak  Yes"
      ]
     },
     "execution_count": 42,
     "metadata": {},
     "output_type": "execute_result"
    }
   ],
   "source": [
    "data.head(5)"
   ]
  },
  {
   "cell_type": "code",
   "execution_count": 43,
   "id": "1fa287f9-f12c-415c-919b-09aa07d8a5d1",
   "metadata": {},
   "outputs": [
    {
     "name": "stdout",
     "output_type": "stream",
     "text": [
      "<class 'pandas.core.frame.DataFrame'>\n",
      "RangeIndex: 14 entries, 0 to 13\n",
      "Data columns (total 5 columns):\n",
      " #   Column    Non-Null Count  Dtype \n",
      "---  ------    --------------  ----- \n",
      " 0   outlook   14 non-null     object\n",
      " 1   temp      14 non-null     object\n",
      " 2   humidity  14 non-null     object\n",
      " 3   wind      14 non-null     object\n",
      " 4   play      14 non-null     object\n",
      "dtypes: object(5)\n",
      "memory usage: 692.0+ bytes\n"
     ]
    }
   ],
   "source": [
    "data.info()"
   ]
  },
  {
   "cell_type": "markdown",
   "id": "f4a48090-739f-4b0e-87a6-95cb9f22eb20",
   "metadata": {},
   "source": [
    "There are no null values in the dataset and all the columns are of string data type."
   ]
  },
  {
   "cell_type": "markdown",
   "id": "fa389bbf-5110-4896-a208-617116264c43",
   "metadata": {},
   "source": [
    "##### <u>Problem</u> -\n",
    "##### Given Input: outlook = Sunny, temp = Hot, humidity = High, wind = Weak. For the given input, will play be 'Yes' or 'No'?"
   ]
  },
  {
   "cell_type": "markdown",
   "id": "995afb9b-ff6e-42e4-898d-753176d2bf59",
   "metadata": {},
   "source": [
    "##### Solution:\n",
    "We will solve this by implementing **Naive Bayes**. As there are two class labels for target column **play** i.e. **Yes** and **No**, so the Naive bayes will find the probability for each class label __given__ the input.   \n",
    "\n",
    "1st Probability -  \n",
    "**P(Yes|Sunny,Hot,High,Weak) = P(Sunny,Hot,High,Weak|Yes) * P(Yes)**  \n",
    "    **==>P(Yes|Sunny,Hot,High,Weak) = P(Sunny|Yes) * P(Hot|Yes) * P(High|Yes) * P(Weak|Yes) * P(Yes)**   \n",
    "\n",
    "2nd Probability -  \n",
    "**P(No|Sunny,Hot,High,Weak) = P(Sunny,Hot,High,Weak|No) * P(No)**  \n",
    "    **==>P(No|Sunny,Hot,High,Weak) = P(Sunny|No) * P(Hot|No) * P(High|No) * P(Weak|No) * P(No)**\n",
    "\n",
    "Naive Bayes will compare both the probabilities and will decide the outcome using the Maximum a posteriori rule (MAP)."
   ]
  },
  {
   "cell_type": "code",
   "execution_count": 44,
   "id": "144389fb-eb19-41fd-95b5-75629e8af3a8",
   "metadata": {},
   "outputs": [
    {
     "data": {
      "text/html": [
       "<div>\n",
       "<style scoped>\n",
       "    .dataframe tbody tr th:only-of-type {\n",
       "        vertical-align: middle;\n",
       "    }\n",
       "\n",
       "    .dataframe tbody tr th {\n",
       "        vertical-align: top;\n",
       "    }\n",
       "\n",
       "    .dataframe thead th {\n",
       "        text-align: right;\n",
       "    }\n",
       "</style>\n",
       "<table border=\"1\" class=\"dataframe\">\n",
       "  <thead>\n",
       "    <tr style=\"text-align: right;\">\n",
       "      <th></th>\n",
       "      <th>outlook</th>\n",
       "      <th>temp</th>\n",
       "      <th>humidity</th>\n",
       "      <th>wind</th>\n",
       "      <th>play</th>\n",
       "    </tr>\n",
       "  </thead>\n",
       "  <tbody>\n",
       "    <tr>\n",
       "      <th>0</th>\n",
       "      <td>Sunny</td>\n",
       "      <td>Hot</td>\n",
       "      <td>High</td>\n",
       "      <td>Weak</td>\n",
       "      <td>No</td>\n",
       "    </tr>\n",
       "    <tr>\n",
       "      <th>1</th>\n",
       "      <td>Sunny</td>\n",
       "      <td>Hot</td>\n",
       "      <td>High</td>\n",
       "      <td>Strong</td>\n",
       "      <td>No</td>\n",
       "    </tr>\n",
       "    <tr>\n",
       "      <th>2</th>\n",
       "      <td>Overcast</td>\n",
       "      <td>Hot</td>\n",
       "      <td>High</td>\n",
       "      <td>Weak</td>\n",
       "      <td>Yes</td>\n",
       "    </tr>\n",
       "    <tr>\n",
       "      <th>3</th>\n",
       "      <td>Rain</td>\n",
       "      <td>Mild</td>\n",
       "      <td>High</td>\n",
       "      <td>Weak</td>\n",
       "      <td>Yes</td>\n",
       "    </tr>\n",
       "    <tr>\n",
       "      <th>4</th>\n",
       "      <td>Rain</td>\n",
       "      <td>Cool</td>\n",
       "      <td>Normal</td>\n",
       "      <td>Weak</td>\n",
       "      <td>Yes</td>\n",
       "    </tr>\n",
       "    <tr>\n",
       "      <th>5</th>\n",
       "      <td>Rain</td>\n",
       "      <td>Cool</td>\n",
       "      <td>Normal</td>\n",
       "      <td>Strong</td>\n",
       "      <td>No</td>\n",
       "    </tr>\n",
       "    <tr>\n",
       "      <th>6</th>\n",
       "      <td>Overcast</td>\n",
       "      <td>Cool</td>\n",
       "      <td>Normal</td>\n",
       "      <td>Strong</td>\n",
       "      <td>Yes</td>\n",
       "    </tr>\n",
       "    <tr>\n",
       "      <th>7</th>\n",
       "      <td>Sunny</td>\n",
       "      <td>Mild</td>\n",
       "      <td>High</td>\n",
       "      <td>Weak</td>\n",
       "      <td>No</td>\n",
       "    </tr>\n",
       "    <tr>\n",
       "      <th>8</th>\n",
       "      <td>Sunny</td>\n",
       "      <td>Cool</td>\n",
       "      <td>Normal</td>\n",
       "      <td>Weak</td>\n",
       "      <td>Yes</td>\n",
       "    </tr>\n",
       "    <tr>\n",
       "      <th>9</th>\n",
       "      <td>Rain</td>\n",
       "      <td>Mild</td>\n",
       "      <td>Normal</td>\n",
       "      <td>Weak</td>\n",
       "      <td>Yes</td>\n",
       "    </tr>\n",
       "    <tr>\n",
       "      <th>10</th>\n",
       "      <td>Sunny</td>\n",
       "      <td>Mild</td>\n",
       "      <td>Normal</td>\n",
       "      <td>Strong</td>\n",
       "      <td>Yes</td>\n",
       "    </tr>\n",
       "    <tr>\n",
       "      <th>11</th>\n",
       "      <td>Overcast</td>\n",
       "      <td>Mild</td>\n",
       "      <td>High</td>\n",
       "      <td>Strong</td>\n",
       "      <td>Yes</td>\n",
       "    </tr>\n",
       "    <tr>\n",
       "      <th>12</th>\n",
       "      <td>Overcast</td>\n",
       "      <td>Hot</td>\n",
       "      <td>Normal</td>\n",
       "      <td>Weak</td>\n",
       "      <td>Yes</td>\n",
       "    </tr>\n",
       "    <tr>\n",
       "      <th>13</th>\n",
       "      <td>Rain</td>\n",
       "      <td>Mild</td>\n",
       "      <td>High</td>\n",
       "      <td>Strong</td>\n",
       "      <td>No</td>\n",
       "    </tr>\n",
       "  </tbody>\n",
       "</table>\n",
       "</div>"
      ],
      "text/plain": [
       "     outlook  temp humidity    wind play\n",
       "0      Sunny   Hot     High    Weak   No\n",
       "1      Sunny   Hot     High  Strong   No\n",
       "2   Overcast   Hot     High    Weak  Yes\n",
       "3       Rain  Mild     High    Weak  Yes\n",
       "4       Rain  Cool   Normal    Weak  Yes\n",
       "5       Rain  Cool   Normal  Strong   No\n",
       "6   Overcast  Cool   Normal  Strong  Yes\n",
       "7      Sunny  Mild     High    Weak   No\n",
       "8      Sunny  Cool   Normal    Weak  Yes\n",
       "9       Rain  Mild   Normal    Weak  Yes\n",
       "10     Sunny  Mild   Normal  Strong  Yes\n",
       "11  Overcast  Mild     High  Strong  Yes\n",
       "12  Overcast   Hot   Normal    Weak  Yes\n",
       "13      Rain  Mild     High  Strong   No"
      ]
     },
     "execution_count": 44,
     "metadata": {},
     "output_type": "execute_result"
    }
   ],
   "source": [
    "data"
   ]
  },
  {
   "cell_type": "markdown",
   "id": "be52ec66-d62a-43bd-845c-901e3872eafc",
   "metadata": {},
   "source": [
    "##### Manually creating LookupTable storing the probabilities for the features given class labels. Behind the scene, this lookup table will be created by Naive Bayes during Training phase and will be used during Testing Phase."
   ]
  },
  {
   "cell_type": "markdown",
   "id": "cf409b51-4d9f-494d-9f5c-452a6f1f0896",
   "metadata": {},
   "source": [
    "##### -Calculating P(Yes) and P(No)"
   ]
  },
  {
   "cell_type": "code",
   "execution_count": 45,
   "id": "a3b41470-db85-4faf-a122-022edfec35e7",
   "metadata": {},
   "outputs": [
    {
     "data": {
      "text/plain": [
       "play\n",
       "Yes    9\n",
       "No     5\n",
       "Name: count, dtype: int64"
      ]
     },
     "execution_count": 45,
     "metadata": {},
     "output_type": "execute_result"
    }
   ],
   "source": [
    "data['play'].value_counts()"
   ]
  },
  {
   "cell_type": "code",
   "execution_count": 46,
   "id": "0fa9cbf1-0a73-4818-a801-3e551e40e4e8",
   "metadata": {},
   "outputs": [],
   "source": [
    "#Calculationg probability for each class labels of the target column\n",
    "P_Yes = 9/(9+5)\n",
    "P_No = 5/(9+5)"
   ]
  },
  {
   "cell_type": "code",
   "execution_count": 47,
   "id": "ad821dc7-615b-44ba-9f96-87a1cd4f28d4",
   "metadata": {},
   "outputs": [
    {
     "name": "stdout",
     "output_type": "stream",
     "text": [
      "0.6428571428571429\n",
      "0.35714285714285715\n"
     ]
    }
   ],
   "source": [
    "print(P_Yes)\n",
    "print(P_No)"
   ]
  },
  {
   "cell_type": "markdown",
   "id": "c5740255-4e76-4285-a6db-68f9c80d8bab",
   "metadata": {},
   "source": [
    "##### -Calculating possible probabilities for each outlook column value given each class label"
   ]
  },
  {
   "cell_type": "code",
   "execution_count": 48,
   "id": "7d83ab8b-0b39-4fc7-b640-723948d086b5",
   "metadata": {},
   "outputs": [
    {
     "data": {
      "text/html": [
       "<div>\n",
       "<style scoped>\n",
       "    .dataframe tbody tr th:only-of-type {\n",
       "        vertical-align: middle;\n",
       "    }\n",
       "\n",
       "    .dataframe tbody tr th {\n",
       "        vertical-align: top;\n",
       "    }\n",
       "\n",
       "    .dataframe thead th {\n",
       "        text-align: right;\n",
       "    }\n",
       "</style>\n",
       "<table border=\"1\" class=\"dataframe\">\n",
       "  <thead>\n",
       "    <tr style=\"text-align: right;\">\n",
       "      <th>play</th>\n",
       "      <th>No</th>\n",
       "      <th>Yes</th>\n",
       "    </tr>\n",
       "    <tr>\n",
       "      <th>outlook</th>\n",
       "      <th></th>\n",
       "      <th></th>\n",
       "    </tr>\n",
       "  </thead>\n",
       "  <tbody>\n",
       "    <tr>\n",
       "      <th>Overcast</th>\n",
       "      <td>0</td>\n",
       "      <td>4</td>\n",
       "    </tr>\n",
       "    <tr>\n",
       "      <th>Rain</th>\n",
       "      <td>2</td>\n",
       "      <td>3</td>\n",
       "    </tr>\n",
       "    <tr>\n",
       "      <th>Sunny</th>\n",
       "      <td>3</td>\n",
       "      <td>2</td>\n",
       "    </tr>\n",
       "  </tbody>\n",
       "</table>\n",
       "</div>"
      ],
      "text/plain": [
       "play      No  Yes\n",
       "outlook          \n",
       "Overcast   0    4\n",
       "Rain       2    3\n",
       "Sunny      3    2"
      ]
     },
     "execution_count": 48,
     "metadata": {},
     "output_type": "execute_result"
    }
   ],
   "source": [
    "pd.crosstab(data['outlook'], data['play'])"
   ]
  },
  {
   "cell_type": "code",
   "execution_count": 49,
   "id": "eae5709d-a348-43f2-b31c-0e663c4d89a2",
   "metadata": {},
   "outputs": [],
   "source": [
    "P_Overcast_No = 0/(0+2+3)\n",
    "P_Rain_No = 2/(0+2+3)\n",
    "P_Sunny_No = 3/(0+2+3)\n",
    "\n",
    "P_Overcast_Yes = 4/(4+3+2)\n",
    "P_Rain_Yes = 3/(4+3+2)\n",
    "P_Sunny_Yes = 2/(4+3+2)"
   ]
  },
  {
   "cell_type": "code",
   "execution_count": 50,
   "id": "d5fd374a-a0a7-41ab-a262-5c36f8ebbd7c",
   "metadata": {},
   "outputs": [
    {
     "name": "stdout",
     "output_type": "stream",
     "text": [
      "0.4444444444444444 0.0 0.3333333333333333 0.4 0.2222222222222222 0.6\n"
     ]
    }
   ],
   "source": [
    "print(P_Overcast_Yes,P_Overcast_No,P_Rain_Yes,P_Rain_No,P_Sunny_Yes,P_Sunny_No)"
   ]
  },
  {
   "cell_type": "markdown",
   "id": "634afee1-b09f-4b25-a6ef-295ff4c81239",
   "metadata": {},
   "source": [
    "##### -Calculating possible probabilities for each temp column value given each class label"
   ]
  },
  {
   "cell_type": "code",
   "execution_count": 51,
   "id": "c43f2214-b133-49ce-b14a-e637e1c98365",
   "metadata": {},
   "outputs": [
    {
     "data": {
      "text/html": [
       "<div>\n",
       "<style scoped>\n",
       "    .dataframe tbody tr th:only-of-type {\n",
       "        vertical-align: middle;\n",
       "    }\n",
       "\n",
       "    .dataframe tbody tr th {\n",
       "        vertical-align: top;\n",
       "    }\n",
       "\n",
       "    .dataframe thead th {\n",
       "        text-align: right;\n",
       "    }\n",
       "</style>\n",
       "<table border=\"1\" class=\"dataframe\">\n",
       "  <thead>\n",
       "    <tr style=\"text-align: right;\">\n",
       "      <th>play</th>\n",
       "      <th>No</th>\n",
       "      <th>Yes</th>\n",
       "    </tr>\n",
       "    <tr>\n",
       "      <th>temp</th>\n",
       "      <th></th>\n",
       "      <th></th>\n",
       "    </tr>\n",
       "  </thead>\n",
       "  <tbody>\n",
       "    <tr>\n",
       "      <th>Cool</th>\n",
       "      <td>1</td>\n",
       "      <td>3</td>\n",
       "    </tr>\n",
       "    <tr>\n",
       "      <th>Hot</th>\n",
       "      <td>2</td>\n",
       "      <td>2</td>\n",
       "    </tr>\n",
       "    <tr>\n",
       "      <th>Mild</th>\n",
       "      <td>2</td>\n",
       "      <td>4</td>\n",
       "    </tr>\n",
       "  </tbody>\n",
       "</table>\n",
       "</div>"
      ],
      "text/plain": [
       "play  No  Yes\n",
       "temp         \n",
       "Cool   1    3\n",
       "Hot    2    2\n",
       "Mild   2    4"
      ]
     },
     "execution_count": 51,
     "metadata": {},
     "output_type": "execute_result"
    }
   ],
   "source": [
    "pd.crosstab(data['temp'],data['play'])"
   ]
  },
  {
   "cell_type": "code",
   "execution_count": 52,
   "id": "7d62aa23-e9ac-4439-9bcc-ba4abeda3a4b",
   "metadata": {},
   "outputs": [],
   "source": [
    "P_Cool_No = 1/(1+2+2)\n",
    "P_Hot_No = 2/(1+2+2)\n",
    "P_Mild_No = 2/(1+2+2)\n",
    "\n",
    "P_Cool_Yes = 3/(3+2+4)\n",
    "P_Hot_Yes = 2/(3+2+4)\n",
    "P_Mild_Yes = 4/(3+2+4)"
   ]
  },
  {
   "cell_type": "code",
   "execution_count": 53,
   "id": "0b55f949-80c5-45c9-9477-888651c55e20",
   "metadata": {},
   "outputs": [
    {
     "name": "stdout",
     "output_type": "stream",
     "text": [
      "0.3333333333333333 0.2 0.2222222222222222 0.4 0.4444444444444444 0.4\n"
     ]
    }
   ],
   "source": [
    "print(P_Cool_Yes,P_Cool_No,P_Hot_Yes,P_Hot_No,P_Mild_Yes,P_Mild_No)"
   ]
  },
  {
   "cell_type": "markdown",
   "id": "7763e6aa-91c2-4783-bccd-d91d513b9d1a",
   "metadata": {},
   "source": [
    "##### -Calculating possible probabilities for each humidity column value given each class label"
   ]
  },
  {
   "cell_type": "code",
   "execution_count": 54,
   "id": "9752cf76-78a7-4831-a0a5-9e9435bda734",
   "metadata": {},
   "outputs": [
    {
     "data": {
      "text/html": [
       "<div>\n",
       "<style scoped>\n",
       "    .dataframe tbody tr th:only-of-type {\n",
       "        vertical-align: middle;\n",
       "    }\n",
       "\n",
       "    .dataframe tbody tr th {\n",
       "        vertical-align: top;\n",
       "    }\n",
       "\n",
       "    .dataframe thead th {\n",
       "        text-align: right;\n",
       "    }\n",
       "</style>\n",
       "<table border=\"1\" class=\"dataframe\">\n",
       "  <thead>\n",
       "    <tr style=\"text-align: right;\">\n",
       "      <th>play</th>\n",
       "      <th>No</th>\n",
       "      <th>Yes</th>\n",
       "    </tr>\n",
       "    <tr>\n",
       "      <th>humidity</th>\n",
       "      <th></th>\n",
       "      <th></th>\n",
       "    </tr>\n",
       "  </thead>\n",
       "  <tbody>\n",
       "    <tr>\n",
       "      <th>High</th>\n",
       "      <td>4</td>\n",
       "      <td>3</td>\n",
       "    </tr>\n",
       "    <tr>\n",
       "      <th>Normal</th>\n",
       "      <td>1</td>\n",
       "      <td>6</td>\n",
       "    </tr>\n",
       "  </tbody>\n",
       "</table>\n",
       "</div>"
      ],
      "text/plain": [
       "play      No  Yes\n",
       "humidity         \n",
       "High       4    3\n",
       "Normal     1    6"
      ]
     },
     "execution_count": 54,
     "metadata": {},
     "output_type": "execute_result"
    }
   ],
   "source": [
    "pd.crosstab(data['humidity'], data['play'])"
   ]
  },
  {
   "cell_type": "code",
   "execution_count": 55,
   "id": "43cbcf9d-4bd4-4198-be17-c067ca9f649a",
   "metadata": {},
   "outputs": [],
   "source": [
    "P_High_No = 4/(4+1)\n",
    "P_Normal_No = 1/(4+1)\n",
    "\n",
    "P_High_Yes = 3/(3+6)\n",
    "P_Normal_Yes = 6/(3+6)"
   ]
  },
  {
   "cell_type": "code",
   "execution_count": 56,
   "id": "14898ff0-b427-47cc-9ddc-11a16d37599b",
   "metadata": {},
   "outputs": [
    {
     "name": "stdout",
     "output_type": "stream",
     "text": [
      "0.3333333333333333 0.8 0.6666666666666666 0.2\n"
     ]
    }
   ],
   "source": [
    "print(P_High_Yes,P_High_No,P_Normal_Yes,P_Normal_No)"
   ]
  },
  {
   "cell_type": "markdown",
   "id": "9aecabf1-de0c-4280-8fdc-931bde288925",
   "metadata": {},
   "source": [
    "##### -Calculating possible probabilities for each wind column value given each class label"
   ]
  },
  {
   "cell_type": "code",
   "execution_count": 57,
   "id": "e1931921-b0fe-47ce-b719-ea89b35013dc",
   "metadata": {},
   "outputs": [
    {
     "data": {
      "text/html": [
       "<div>\n",
       "<style scoped>\n",
       "    .dataframe tbody tr th:only-of-type {\n",
       "        vertical-align: middle;\n",
       "    }\n",
       "\n",
       "    .dataframe tbody tr th {\n",
       "        vertical-align: top;\n",
       "    }\n",
       "\n",
       "    .dataframe thead th {\n",
       "        text-align: right;\n",
       "    }\n",
       "</style>\n",
       "<table border=\"1\" class=\"dataframe\">\n",
       "  <thead>\n",
       "    <tr style=\"text-align: right;\">\n",
       "      <th>play</th>\n",
       "      <th>No</th>\n",
       "      <th>Yes</th>\n",
       "    </tr>\n",
       "    <tr>\n",
       "      <th>wind</th>\n",
       "      <th></th>\n",
       "      <th></th>\n",
       "    </tr>\n",
       "  </thead>\n",
       "  <tbody>\n",
       "    <tr>\n",
       "      <th>Strong</th>\n",
       "      <td>3</td>\n",
       "      <td>3</td>\n",
       "    </tr>\n",
       "    <tr>\n",
       "      <th>Weak</th>\n",
       "      <td>2</td>\n",
       "      <td>6</td>\n",
       "    </tr>\n",
       "  </tbody>\n",
       "</table>\n",
       "</div>"
      ],
      "text/plain": [
       "play    No  Yes\n",
       "wind           \n",
       "Strong   3    3\n",
       "Weak     2    6"
      ]
     },
     "execution_count": 57,
     "metadata": {},
     "output_type": "execute_result"
    }
   ],
   "source": [
    "pd.crosstab(data['wind'], data['play'])"
   ]
  },
  {
   "cell_type": "code",
   "execution_count": 58,
   "id": "7bfad57b-a04f-4c2f-a42e-1579d5494153",
   "metadata": {},
   "outputs": [],
   "source": [
    "P_Strong_No = 3/(3+2)\n",
    "P_Weak_No = 2/(3+2)\n",
    "\n",
    "P_Strong_Yes = 3/(3+6)\n",
    "P_Weak_Yes = 6/(3+6)"
   ]
  },
  {
   "cell_type": "code",
   "execution_count": 59,
   "id": "18560c8c-1a5e-405f-ab76-2dc13d36d7d0",
   "metadata": {},
   "outputs": [
    {
     "name": "stdout",
     "output_type": "stream",
     "text": [
      "0.3333333333333333 0.6 0.6666666666666666 0.4\n"
     ]
    }
   ],
   "source": [
    "print(P_Strong_Yes,P_Strong_No,P_Weak_Yes,P_Weak_No)"
   ]
  },
  {
   "cell_type": "markdown",
   "id": "eb5dff9a-ab1e-45be-978e-748aae750c78",
   "metadata": {},
   "source": [
    "#### Solving Problem  \n",
    "Given Input: outlook = Sunny, temp = Hot, humidity = High, wind = Weak.  \n",
    "For the given input, will play be 'Yes' or 'No'?"
   ]
  },
  {
   "cell_type": "code",
   "execution_count": 60,
   "id": "037906d6-99f3-4836-837d-90e17a1c0ecb",
   "metadata": {},
   "outputs": [],
   "source": [
    "# Finding P(Yes|Sunny,Hot,High,Weak) using the formula mentioned above\n",
    "P_Yes_SHHW = P_Sunny_Yes * P_Hot_Yes * P_High_Yes * P_Weak_Yes * P_Yes\n",
    "\n",
    "# Finding P(No|Sunny,Hot,High,Weak) using the formula mentioned above\n",
    "P_No_SHHW = P_Sunny_No * P_Hot_No * P_High_No * P_Weak_No * P_No"
   ]
  },
  {
   "cell_type": "code",
   "execution_count": 61,
   "id": "22765783-294c-469a-831a-417d103c185f",
   "metadata": {},
   "outputs": [
    {
     "name": "stdout",
     "output_type": "stream",
     "text": [
      "P(Yes|Sunny,Hot,High,Weak) is  0.007054673721340387\n",
      "P(No|Sunny,Hot,High,Weak) is  0.02742857142857143\n"
     ]
    }
   ],
   "source": [
    "print(\"P(Yes|Sunny,Hot,High,Weak) is \", P_Yes_SHHW)\n",
    "print(\"P(No|Sunny,Hot,High,Weak) is \", P_No_SHHW)"
   ]
  },
  {
   "cell_type": "markdown",
   "id": "6e2d6830-3613-473b-aacd-eda0e7a8b533",
   "metadata": {},
   "source": [
    "**Result -**    \n",
    "As **P(No|Sunny,Hot,High,Weak) > P(Yes|Sunny,Hot,High,Weak)**, so the output prediction will be **No**.\n",
    "\n",
    "This means the Naive Bayes Model will predict that for the given input i.e. **outlook = Sunny, temp = Hot, humidity = High, wind = Weak,** **No** tennis game will be played."
   ]
  },
  {
   "cell_type": "code",
   "execution_count": null,
   "id": "d61db886-861a-4598-bb94-45201929ec51",
   "metadata": {},
   "outputs": [],
   "source": []
  }
 ],
 "metadata": {
  "kernelspec": {
   "display_name": "Python 3 (ipykernel)",
   "language": "python",
   "name": "python3"
  },
  "language_info": {
   "codemirror_mode": {
    "name": "ipython",
    "version": 3
   },
   "file_extension": ".py",
   "mimetype": "text/x-python",
   "name": "python",
   "nbconvert_exporter": "python",
   "pygments_lexer": "ipython3",
   "version": "3.12.7"
  }
 },
 "nbformat": 4,
 "nbformat_minor": 5
}
